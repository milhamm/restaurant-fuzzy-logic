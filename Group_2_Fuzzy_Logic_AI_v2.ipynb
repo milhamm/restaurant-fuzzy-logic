{
  "nbformat": 4,
  "nbformat_minor": 0,
  "metadata": {
    "colab": {
      "name": "Group 2_Fuzzy Logic AI_v2.ipynb",
      "provenance": [],
      "collapsed_sections": [],
      "include_colab_link": true
    },
    "kernelspec": {
      "name": "python3",
      "display_name": "Python 3"
    },
    "language_info": {
      "name": "python"
    }
  },
  "cells": [
    {
      "cell_type": "markdown",
      "metadata": {
        "id": "view-in-github",
        "colab_type": "text"
      },
      "source": [
        "<a href=\"https://colab.research.google.com/github/milhamm/restaurant-fuzzy-logic/blob/main/Group_2_Fuzzy_Logic_AI_v2.ipynb\" target=\"_parent\"><img src=\"https://colab.research.google.com/assets/colab-badge.svg\" alt=\"Open In Colab\"/></a>"
      ]
    },
    {
      "cell_type": "markdown",
      "metadata": {
        "id": "u6ISu7iCP3du"
      },
      "source": [
        "# **Fuzzy Logic - Group 2**\n",
        "\n",
        "\n",
        "1.   Putra Dharma Bangsa\n",
        "2.   Dzaki Mahadika Gunarto\n",
        "3.   Muhammad Ilham Mubarak\n",
        "\n",
        "\n"
      ]
    },
    {
      "cell_type": "code",
      "metadata": {
        "id": "OjFvT5uS6-Mo"
      },
      "source": [
        "import pandas as pd\n",
        "import numpy as np\n",
        "import matplotlib.pyplot as plt"
      ],
      "execution_count": 310,
      "outputs": []
    },
    {
      "cell_type": "markdown",
      "metadata": {
        "id": "9ILEVqjs7oRc"
      },
      "source": [
        "## **Importing the Restaurant Datasets**\n"
      ]
    },
    {
      "cell_type": "code",
      "metadata": {
        "id": "oH0UPxAd7RB-"
      },
      "source": [
        "data = pd.read_excel(\"https://github.com/milhamm/restaurant-fuzzy-logic/blob/main/restoran.xlsx?raw=true\")"
      ],
      "execution_count": 311,
      "outputs": []
    },
    {
      "cell_type": "markdown",
      "metadata": {
        "id": "7vsh8WHj9CHz"
      },
      "source": [
        "## **Linguistic Variables**\n",
        "\n",
        "\n",
        "### **Input Linguistic**\n",
        "Service Quality [0 - 100]:\n",
        "*   Excellent\n",
        "*   Okay\n",
        "*   Bad\n",
        "\n",
        "Food Quality [0 - 10]:\n",
        "*   Delicious\n",
        "*   Okay\n",
        "*   Less Delicious\n",
        "\n",
        "### **Output Linguistic**\n",
        "\n",
        "*   Recommended\n",
        "*   Average\n",
        "*   Not Recommended\n",
        "\n"
      ]
    },
    {
      "cell_type": "markdown",
      "metadata": {
        "id": "rE0XaJftQS08"
      },
      "source": [
        "## **Membership Functions**"
      ]
    },
    {
      "cell_type": "code",
      "metadata": {
        "id": "MP_blGRv7x2Z"
      },
      "source": [
        "def maximum(x, a, b):\n",
        "  if a < x and x <= b:\n",
        "    return (x - a) / (b - a)\n",
        "  if x <= a:\n",
        "    return 0\n",
        "  return 1\n",
        "\n",
        "def minimum(x, a, b):\n",
        "  if a < x and x <= b:\n",
        "    return (b - x) / (b - a)\n",
        "  if x <= a:\n",
        "    return 1\n",
        "  return 0\n",
        "\n",
        "def average(x, a, b, c, d):\n",
        "  if x <= a or x > d:\n",
        "    return 0\n",
        "  if a < x and x < b:\n",
        "    return (x - a) / (b - a)\n",
        "  if c < x and x <= d:\n",
        "    return (d - x) / (d - c)\n",
        "  return 1\n",
        "\n",
        "def minimum_service(x):\n",
        "  s_min_a = 30\n",
        "  s_min_b = 50\n",
        "  return minimum(x, s_min_a, s_min_b)\n",
        "\n",
        "def average_service(x):\n",
        "  s_avg_a = 45\n",
        "  s_avg_b = 60\n",
        "  s_avg_c = 75\n",
        "  s_avg_d = 80\n",
        "  return average(x, s_avg_a, s_avg_b, s_avg_c, s_avg_d)\n",
        "\n",
        "def maximum_service(x):\n",
        "  s_max_a = 75\n",
        "  s_max_b = 90\n",
        "  return maximum(x, s_max_a, s_max_b)\n",
        "\n",
        "def minimum_food(x):\n",
        "  f_min_a = 3.5\n",
        "  f_min_b = 5\n",
        "  return minimum(x, f_min_a, f_min_b)\n",
        "\n",
        "def average_food(x):\n",
        "  f_avg_a = 4.5\n",
        "  f_avg_b = 5\n",
        "  f_avg_c = 6.5\n",
        "  f_avg_d = 7.5\n",
        "  return average(x, f_avg_a, f_avg_b, f_avg_c, f_avg_d)\n",
        "\n",
        "def maximum_food(x):\n",
        "  f_max_a = 7\n",
        "  f_max_b = 8\n",
        "  return maximum(x, f_max_a, f_max_b)"
      ],
      "execution_count": 312,
      "outputs": []
    },
    {
      "cell_type": "markdown",
      "metadata": {
        "id": "k4wOk4w0Y2PO"
      },
      "source": [
        "## **Service Quality Membership Function**"
      ]
    },
    {
      "cell_type": "code",
      "metadata": {
        "colab": {
          "base_uri": "https://localhost:8080/",
          "height": 281
        },
        "id": "JjGJFyCUOdL6",
        "outputId": "13b8a383-a9f2-4641-f96d-ea6b8533e896"
      },
      "source": [
        "s_x = np.linspace(0, 100, 100)\n",
        "plt.plot(s_x, [minimum_service(x) for x in s_x])\n",
        "plt.plot(s_x, [average_service(x) for x in s_x])\n",
        "plt.plot(s_x, [maximum_service(x) for x in s_x])\n",
        "plt.title(\"Service Quality Membership Function\")\n",
        "plt.show()"
      ],
      "execution_count": 313,
      "outputs": [
        {
          "output_type": "display_data",
          "data": {
            "image/png": "[encoded data removed]",
            "text/plain": [
              "<Figure size 432x288 with 1 Axes>"
            ]
          },
          "metadata": {
            "tags": [],
            "needs_background": "light"
          }
        }
      ]
    },
    {
      "cell_type": "markdown",
      "metadata": {
        "id": "iKQy3cWwY9s_"
      },
      "source": [
        "## **Food Quality Membership Function**"
      ]
    },
    {
      "cell_type": "code",
      "metadata": {
        "colab": {
          "base_uri": "https://localhost:8080/",
          "height": 281
        },
        "id": "EGYphqrWV4Bs",
        "outputId": "06e08c33-de52-4300-b316-c53a74d86ca6"
      },
      "source": [
        "f_x = np.linspace(0, 10, 100)\n",
        "plt.plot(f_x, [minimum_food(x) for x in f_x])\n",
        "plt.plot(f_x, [average_food(x) for x in f_x])\n",
        "plt.plot(f_x, [maximum_food(x) for x in f_x])\n",
        "plt.title(\"Food Quality Membership Function\")\n",
        "plt.show()"
      ],
      "execution_count": 314,
      "outputs": [
        {
          "output_type": "display_data",
          "data": {
            "image/png": "[encoded data removed]",
            "text/plain": [
              "<Figure size 432x288 with 1 Axes>"
            ]
          },
          "metadata": {
            "tags": [],
            "needs_background": "light"
          }
        }
      ]
    },
    {
      "cell_type": "markdown",
      "metadata": {
        "id": "ubdbuQ7jDwxM"
      },
      "source": [
        "## **Fuzzification**"
      ]
    },
    {
      "cell_type": "code",
      "metadata": {
        "id": "VpquNYx0ZVJd"
      },
      "source": [
        "def fuzzification(data, linguistic):\n",
        "  fuzz_res = []\n",
        "\n",
        "  for item in data:\n",
        "    fuzz_item = {}\n",
        "\n",
        "    for key in linguistic:\n",
        "      fuzz_item[key] = linguistic[key](item)\n",
        "\n",
        "    fuzz_res.append(fuzz_item)\n",
        "  \n",
        "  return fuzz_res"
      ],
      "execution_count": 315,
      "outputs": []
    },
    {
      "cell_type": "markdown",
      "metadata": {
        "id": "1uDQX8qQyJ4f"
      },
      "source": [
        "## **Fuzzy Rules**\n",
        "\n",
        "| service | food | score |\n",
        "|---------|------| ------|\n",
        "| Excellent | Delicious | Recommended |\n",
        "| Excellent | Okay | Recommended |\n",
        "| Excellent | Less Delicious | Not Recommended |\n",
        "| Okay | Delicious | Recommended |\n",
        "| Okay | Okay | Average |\n",
        "| Okay | Less Delicious | Not Recommended |\n",
        "| Bad | Delicious | Average |\n",
        "| Bad | Okay | Not Recommended |\n",
        "| Bad | Less Delicious | Not Recommended |"
      ]
    },
    {
      "cell_type": "markdown",
      "metadata": {
        "id": "Ix_72uFEZKKU"
      },
      "source": [
        "## **Inference**"
      ]
    },
    {
      "cell_type": "code",
      "metadata": {
        "id": "dCS02AQXk0MW"
      },
      "source": [
        "def inference(data, fuzzy_rules, linguistic_output):\n",
        "  fuz = []\n",
        "  for items in zip(*data):\n",
        "    fuz_all = []\n",
        "    for rule in fuzzy_rules:\n",
        "      fuz_all.append({\n",
        "          \"label\" : rule[\"label\"],\n",
        "          \"score\" : min([items[i][x] for i, x in enumerate(rule[\"rule\"])])\n",
        "      })\n",
        "    fuz.append(fuz_all)\n",
        "    \n",
        "  score = []\n",
        "  for items in fuz:\n",
        "    out_obj = {}\n",
        "    for label in linguistic_output: \n",
        "      out_obj[label] = max(item[\"score\"] for item in items if item[\"label\"] == label)\n",
        "    score.append(out_obj)\n",
        "\n",
        "  return score"
      ],
      "execution_count": 316,
      "outputs": []
    },
    {
      "cell_type": "markdown",
      "metadata": {
        "id": "xLUGCKdq3uOu"
      },
      "source": [
        "##**Defuzzification**"
      ]
    },
    {
      "cell_type": "code",
      "metadata": {
        "id": "CYF8ImBY34Qz"
      },
      "source": [
        "def defuzzification(item):\n",
        "  return ((item[RECOMMENDED] * 100) + (item[AVERAGE] * 70) + (item[NOT_RECOMMENDED] * 50)) / (item[RECOMMENDED] + item[AVERAGE] + item[NOT_RECOMMENDED])"
      ],
      "execution_count": 317,
      "outputs": []
    },
    {
      "cell_type": "markdown",
      "metadata": {
        "id": "TuZ2GapZ07or"
      },
      "source": [
        "## **Main Program**"
      ]
    },
    {
      "cell_type": "code",
      "metadata": {
        "colab": {
          "base_uri": "https://localhost:8080/"
        },
        "id": "rU9oNBrIi28T",
        "outputId": "a0570a8f-be11-47d4-9e5f-53b051b924f6"
      },
      "source": [
        "if __name__ == \"__main__\":\n",
        "\n",
        "    # Constant, Rules, and Variables \n",
        "    RECOMMENDED = \"RECOMMENDED\"\n",
        "    AVERAGE = \"AVERAGE\"\n",
        "    NOT_RECOMMENDED = \"NOT_RECOMMENDED\"\n",
        "\n",
        "    EXCELLENT = \"EXCELLENT\"\n",
        "    OKAY = \"OKAY\"\n",
        "    BAD = \"BAD\"\n",
        "\n",
        "    DELICIOUS = \"DELICIOUS\"\n",
        "    OKAY_FOOD = \"OKAY_FOOD\"\n",
        "    LESS_DELICIOUS = \"LESS_DELICIOUS\"\n",
        "    \n",
        "    linguistic_service = {\n",
        "      EXCELLENT: maximum_service,\n",
        "      OKAY: average_service,\n",
        "      BAD: minimum_service\n",
        "    }\n",
        "    \n",
        "    linguistic_food = {\n",
        "      DELICIOUS: maximum_food,\n",
        "      OKAY_FOOD: average_food,\n",
        "      LESS_DELICIOUS: minimum_food\n",
        "    }\n",
        "\n",
        "    linguistic_output = (RECOMMENDED, AVERAGE, NOT_RECOMMENDED)\n",
        "\n",
        "    linguistic  = {\n",
        "        \"pelayanan\": linguistic_service,\n",
        "        \"makanan\": linguistic_food\n",
        "    }\n",
        "\n",
        "    fuzzy_rules = [\n",
        "      { \"label\": RECOMMENDED, \"rule\": (EXCELLENT, DELICIOUS) },\n",
        "      { \"label\": RECOMMENDED, \"rule\": (EXCELLENT, OKAY_FOOD) },\n",
        "      { \"label\": NOT_RECOMMENDED, \"rule\" : (EXCELLENT, LESS_DELICIOUS) },\n",
        "      { \"label\": RECOMMENDED, \"rule\" : (OKAY, DELICIOUS) },\n",
        "      { \"label\": AVERAGE, \"rule\" : (OKAY, OKAY_FOOD) },\n",
        "      { \"label\": NOT_RECOMMENDED, \"rule\" : (OKAY, LESS_DELICIOUS) },\n",
        "      { \"label\": AVERAGE, \"rule\" : (BAD, DELICIOUS) },\n",
        "      { \"label\": NOT_RECOMMENDED, \"rule\" : (BAD, OKAY_FOOD) },\n",
        "      { \"label\": NOT_RECOMMENDED, \"rule\" : (BAD, LESS_DELICIOUS) },\n",
        "    ]\n",
        "\n",
        "    # Main Program\n",
        "    data_temp = data.drop([\"id\"], axis = 1)\n",
        "    \n",
        "    combined_arr = [fuzzification(data[column], linguistic[column]) for column in data_temp]\n",
        "    score = inference(combined_arr, fuzzy_rules, linguistic_output)\n",
        "    z = [defuzzification(item) for item in score]\n",
        "\n",
        "    data[\"score\"] = z\n",
        "    data = data.sort_values(by=[\"score\", \"makanan\", \"pelayanan\"], ascending=False)\n",
        "\n",
        "    print(data[:10])\n",
        "\n",
        "    # Export to Excel\n",
        "    data = data.drop([\"pelayanan\", \"makanan\", \"score\"], axis=1)\n",
        "    data[0:10].to_excel(\"peringkat.xls\", index=False, header=False)"
      ],
      "execution_count": 318,
      "outputs": [
        {
          "output_type": "stream",
          "text": [
            "    id  pelayanan  makanan  score\n",
            "41  42         94       10  100.0\n",
            "68  69         86       10  100.0\n",
            "53  54         64       10  100.0\n",
            "24  25         61       10  100.0\n",
            "5    6         59       10  100.0\n",
            "23  24        100        9  100.0\n",
            "78  79         87        9  100.0\n",
            "21  22         79        9  100.0\n",
            "30  31         74        9  100.0\n",
            "69  70         78        8  100.0\n"
          ],
          "name": "stdout"
        }
      ]
    }
  ]
}