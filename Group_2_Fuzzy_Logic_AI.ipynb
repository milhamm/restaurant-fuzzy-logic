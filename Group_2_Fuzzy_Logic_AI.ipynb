{
  "nbformat": 4,
  "nbformat_minor": 0,
  "metadata": {
    "colab": {
      "name": "Group 2_Fuzzy Logic AI.ipynb",
      "provenance": [],
      "collapsed_sections": [],
      "toc_visible": true,
      "include_colab_link": true
    },
    "kernelspec": {
      "name": "python3",
      "display_name": "Python 3"
    },
    "language_info": {
      "name": "python"
    }
  },
  "cells": [
    {
      "cell_type": "markdown",
      "metadata": {
        "id": "view-in-github",
        "colab_type": "text"
      },
      "source": [
        "<a href=\"https://colab.research.google.com/github/milhamm/restaurant-fuzzy-logic/blob/main/Group_2_Fuzzy_Logic_AI.ipynb\" target=\"_parent\"><img src=\"https://colab.research.google.com/assets/colab-badge.svg\" alt=\"Open In Colab\"/></a>"
      ]
    },
    {
      "cell_type": "markdown",
      "metadata": {
        "id": "u6ISu7iCP3du"
      },
      "source": [
        "# **Fuzzy Logic - Group 2**\n",
        "\n",
        "\n",
        "1.   Putra Dharma Bangsa\n",
        "2.   Dzaki Mahadika Gunarto\n",
        "3.   Muhammad Ilham Mubarak\n",
        "\n",
        "\n"
      ]
    },
    {
      "cell_type": "code",
      "metadata": {
        "id": "OjFvT5uS6-Mo"
      },
      "source": [
        "import pandas as pd\n",
        "import numpy as np\n",
        "import matplotlib.pyplot as plt"
      ],
      "execution_count": 50,
      "outputs": []
    },
    {
      "cell_type": "markdown",
      "metadata": {
        "id": "9ILEVqjs7oRc"
      },
      "source": [
        "## **Importing the Restaurant Datasets**\n"
      ]
    },
    {
      "cell_type": "code",
      "metadata": {
        "colab": {
          "base_uri": "https://localhost:8080/",
          "height": 407
        },
        "id": "oH0UPxAd7RB-",
        "outputId": "4e38c56b-6347-4677-b37f-7cee1f192f1f"
      },
      "source": [
        "data = pd.read_excel(\"https://github.com/milhamm/restaurant-fuzzy-logic/blob/main/restoran.xlsx?raw=true\")\n",
        "data"
      ],
      "execution_count": 51,
      "outputs": [
        {
          "output_type": "execute_result",
          "data": {
            "text/html": [
              "<div>\n",
              "<style scoped>\n",
              "    .dataframe tbody tr th:only-of-type {\n",
              "        vertical-align: middle;\n",
              "    }\n",
              "\n",
              "    .dataframe tbody tr th {\n",
              "        vertical-align: top;\n",
              "    }\n",
              "\n",
              "    .dataframe thead th {\n",
              "        text-align: right;\n",
              "    }\n",
              "</style>\n",
              "<table border=\"1\" class=\"dataframe\">\n",
              "  <thead>\n",
              "    <tr style=\"text-align: right;\">\n",
              "      <th></th>\n",
              "      <th>id</th>\n",
              "      <th>pelayanan</th>\n",
              "      <th>makanan</th>\n",
              "    </tr>\n",
              "  </thead>\n",
              "  <tbody>\n",
              "    <tr>\n",
              "      <th>0</th>\n",
              "      <td>1</td>\n",
              "      <td>58</td>\n",
              "      <td>7</td>\n",
              "    </tr>\n",
              "    <tr>\n",
              "      <th>1</th>\n",
              "      <td>2</td>\n",
              "      <td>54</td>\n",
              "      <td>1</td>\n",
              "    </tr>\n",
              "    <tr>\n",
              "      <th>2</th>\n",
              "      <td>3</td>\n",
              "      <td>98</td>\n",
              "      <td>2</td>\n",
              "    </tr>\n",
              "    <tr>\n",
              "      <th>3</th>\n",
              "      <td>4</td>\n",
              "      <td>52</td>\n",
              "      <td>4</td>\n",
              "    </tr>\n",
              "    <tr>\n",
              "      <th>4</th>\n",
              "      <td>5</td>\n",
              "      <td>11</td>\n",
              "      <td>4</td>\n",
              "    </tr>\n",
              "    <tr>\n",
              "      <th>...</th>\n",
              "      <td>...</td>\n",
              "      <td>...</td>\n",
              "      <td>...</td>\n",
              "    </tr>\n",
              "    <tr>\n",
              "      <th>95</th>\n",
              "      <td>96</td>\n",
              "      <td>30</td>\n",
              "      <td>1</td>\n",
              "    </tr>\n",
              "    <tr>\n",
              "      <th>96</th>\n",
              "      <td>97</td>\n",
              "      <td>25</td>\n",
              "      <td>3</td>\n",
              "    </tr>\n",
              "    <tr>\n",
              "      <th>97</th>\n",
              "      <td>98</td>\n",
              "      <td>27</td>\n",
              "      <td>10</td>\n",
              "    </tr>\n",
              "    <tr>\n",
              "      <th>98</th>\n",
              "      <td>99</td>\n",
              "      <td>8</td>\n",
              "      <td>6</td>\n",
              "    </tr>\n",
              "    <tr>\n",
              "      <th>99</th>\n",
              "      <td>100</td>\n",
              "      <td>11</td>\n",
              "      <td>8</td>\n",
              "    </tr>\n",
              "  </tbody>\n",
              "</table>\n",
              "<p>100 rows × 3 columns</p>\n",
              "</div>"
            ],
            "text/plain": [
              "     id  pelayanan  makanan\n",
              "0     1         58        7\n",
              "1     2         54        1\n",
              "2     3         98        2\n",
              "3     4         52        4\n",
              "4     5         11        4\n",
              "..  ...        ...      ...\n",
              "95   96         30        1\n",
              "96   97         25        3\n",
              "97   98         27       10\n",
              "98   99          8        6\n",
              "99  100         11        8\n",
              "\n",
              "[100 rows x 3 columns]"
            ]
          },
          "metadata": {
            "tags": []
          },
          "execution_count": 51
        }
      ]
    },
    {
      "cell_type": "markdown",
      "metadata": {
        "id": "7vsh8WHj9CHz"
      },
      "source": [
        "## **Linguistic Variables**\n",
        "\n",
        "\n",
        "### **Input Linguistic**\n",
        "Service Quality [0 - 100]:\n",
        "*   Excellent\n",
        "*   Okay\n",
        "*   Bad\n",
        "\n",
        "Food Quality [0 - 10]:\n",
        "*   Delicious\n",
        "*   Okay\n",
        "*   Less Delicious\n",
        "\n",
        "### **Output Linguistic**\n",
        "\n",
        "*   Recommended\n",
        "*   Average\n",
        "*   Not Recommended\n",
        "\n"
      ]
    },
    {
      "cell_type": "markdown",
      "metadata": {
        "id": "rE0XaJftQS08"
      },
      "source": [
        "## **Membership Functions**"
      ]
    },
    {
      "cell_type": "code",
      "metadata": {
        "id": "MP_blGRv7x2Z"
      },
      "source": [
        "def maximum(x, a, b):\n",
        "  if a < x and x <= b:\n",
        "    return (x - a) / (b - a)\n",
        "  if x <= a:\n",
        "    return 0\n",
        "  return 1\n",
        "\n",
        "def minimum(x, a, b):\n",
        "  if a < x and x <= b:\n",
        "    return (b - x) / (b - a)\n",
        "  if x <= a:\n",
        "    return 1\n",
        "  return 0\n",
        "\n",
        "def average(x, a, b, c, d):\n",
        "  if x <= a or x > d:\n",
        "    return 0\n",
        "  if a < x and x < b:\n",
        "    return (x - a) / (b - a)\n",
        "  if c < x and x <= d:\n",
        "    return (d - x) / (d - c)\n",
        "  return 1\n",
        "\n",
        "def minimum_service(x):\n",
        "  s_min_a = 30\n",
        "  s_min_b = 50\n",
        "  return minimum(x, s_min_a, s_min_b)\n",
        "\n",
        "def average_service(x):\n",
        "  s_avg_a = 45\n",
        "  s_avg_b = 60\n",
        "  s_avg_c = 75\n",
        "  s_avg_d = 80\n",
        "  return average(x, s_avg_a, s_avg_b, s_avg_c, s_avg_d)\n",
        "\n",
        "def maximum_service(x):\n",
        "  s_max_a = 75\n",
        "  s_max_b = 90\n",
        "  return maximum(x, s_max_a, s_max_b)\n",
        "\n",
        "def minimum_food(x):\n",
        "  f_min_a = 3.5\n",
        "  f_min_b = 5\n",
        "  return minimum(x, f_min_a, f_min_b)\n",
        "\n",
        "def average_food(x):\n",
        "  f_avg_a = 4.5\n",
        "  f_avg_b = 5\n",
        "  f_avg_c = 6.5\n",
        "  f_avg_d = 7.5\n",
        "  return average(x, f_avg_a, f_avg_b, f_avg_c, f_avg_d)\n",
        "\n",
        "def maximum_food(x):\n",
        "  f_max_a = 7\n",
        "  f_max_b = 8\n",
        "  return maximum(x, f_max_a, f_max_b)"
      ],
      "execution_count": 52,
      "outputs": []
    },
    {
      "cell_type": "markdown",
      "metadata": {
        "id": "k4wOk4w0Y2PO"
      },
      "source": [
        "## **Service Quality Membership Function**"
      ]
    },
    {
      "cell_type": "code",
      "metadata": {
        "colab": {
          "base_uri": "https://localhost:8080/",
          "height": 281
        },
        "id": "JjGJFyCUOdL6",
        "outputId": "495fa488-8e99-498f-89c3-30b62513ca80"
      },
      "source": [
        "s_x = np.linspace(0, 100, 100)\n",
        "plt.plot(s_x, [minimum_service(x) for x in s_x])\n",
        "plt.plot(s_x, [average_service(x) for x in s_x])\n",
        "plt.plot(s_x, [maximum_service(x) for x in s_x])\n",
        "plt.title(\"Service Quality Membership Function\")\n",
        "plt.show()"
      ],
      "execution_count": 53,
      "outputs": [
        {
          "output_type": "display_data",
          "data": {
            "image/png": "[encoded data removed]",
            "text/plain": [
              "<Figure size 432x288 with 1 Axes>"
            ]
          },
          "metadata": {
            "tags": [],
            "needs_background": "light"
          }
        }
      ]
    },
    {
      "cell_type": "markdown",
      "metadata": {
        "id": "iKQy3cWwY9s_"
      },
      "source": [
        "## **Food Quality Membership Function**"
      ]
    },
    {
      "cell_type": "code",
      "metadata": {
        "colab": {
          "base_uri": "https://localhost:8080/",
          "height": 281
        },
        "id": "EGYphqrWV4Bs",
        "outputId": "b1faecea-2e12-464d-920b-9ab890d5fe14"
      },
      "source": [
        "f_x = np.linspace(0, 10, 100)\n",
        "plt.plot(f_x, [minimum_food(x) for x in f_x])\n",
        "plt.plot(f_x, [average_food(x) for x in f_x])\n",
        "plt.plot(f_x, [maximum_food(x) for x in f_x])\n",
        "plt.title(\"Food Quality Membership Function\")\n",
        "plt.show()"
      ],
      "execution_count": 54,
      "outputs": [
        {
          "output_type": "display_data",
          "data": {
            "image/png": "[encoded data removed]",
            "text/plain": [
              "<Figure size 432x288 with 1 Axes>"
            ]
          },
          "metadata": {
            "tags": [],
            "needs_background": "light"
          }
        }
      ]
    },
    {
      "cell_type": "markdown",
      "metadata": {
        "id": "1uDQX8qQyJ4f"
      },
      "source": [
        "## **Design Fuzzy Rules**\n",
        "\n",
        "![image.png](data:image/png;base64,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)"
      ]
    },
    {
      "cell_type": "code",
      "metadata": {
        "id": "ZgeTjx8GzPJK"
      },
      "source": [
        "RECOMMENDED = 'recommended'\n",
        "AVERAGE = 'average'\n",
        "NOT_RECOMMENDED = 'not_recommended'\n",
        "\n",
        "fuz = []\n",
        "\n",
        "for service, food in zip(data[\"pelayanan\"], data[\"makanan\"]):\n",
        "  fuz.append([\n",
        "      {\n",
        "          'name'  : RECOMMENDED,\n",
        "          'score' : min(maximum_service(service), maximum_food(food))\n",
        "      },\n",
        "      {\n",
        "          'name'  : RECOMMENDED,\n",
        "          'score' : min(maximum_service(service), average_food(food))\n",
        "      },\n",
        "      {\n",
        "          'name'  : NOT_RECOMMENDED,\n",
        "          'score' : min(maximum_service(service), minimum_food(food))\n",
        "      },\n",
        "      {\n",
        "          'name'  : RECOMMENDED,\n",
        "          'score' : min(average_service(service), maximum_food(food))\n",
        "      },\n",
        "      {\n",
        "          'name'  : AVERAGE,\n",
        "          'score' : min(average_service(service), average_food(food))\n",
        "      },\n",
        "      {\n",
        "          'name'  : NOT_RECOMMENDED,\n",
        "          'score' : min(average_service(service), minimum_food(food))\n",
        "      },\n",
        "      {\n",
        "          'name'  : AVERAGE,\n",
        "          'score' : min(minimum_service(service), maximum_food(food))\n",
        "      },\n",
        "      {\n",
        "          'name'  : NOT_RECOMMENDED,\n",
        "          'score' : min(minimum_service(service), average_food(food))\n",
        "      },\n",
        "      {\n",
        "          'name'  : NOT_RECOMMENDED,\n",
        "          'score' : min(minimum_service(service), minimum_food(food))\n",
        "      }\n",
        "  ])\n",
        "\n",
        "score = []\n",
        "\n",
        "for items in fuz:\n",
        "  maximum_recommended = 0\n",
        "  maximum_average = 0\n",
        "  maximum_not_recommended = 0\n",
        "  \n",
        "  for item in items:\n",
        "    if item[\"name\"] == RECOMMENDED:\n",
        "      maximum_recommended = max(maximum_recommended, item[\"score\"])\n",
        "    elif item[\"name\"] == AVERAGE:\n",
        "      maximum_average = max(maximum_average, item[\"score\"])\n",
        "    else:\n",
        "      maximum_not_recommended = max(maximum_not_recommended, item[\"score\"])\n",
        "  \n",
        "  score.append({\n",
        "      RECOMMENDED : maximum_recommended,\n",
        "      AVERAGE : maximum_average,\n",
        "      NOT_RECOMMENDED : maximum_not_recommended\n",
        "  })"
      ],
      "execution_count": 55,
      "outputs": []
    },
    {
      "cell_type": "markdown",
      "metadata": {
        "id": "xLUGCKdq3uOu"
      },
      "source": [
        "##**Defuzzification**"
      ]
    },
    {
      "cell_type": "code",
      "metadata": {
        "id": "CYF8ImBY34Qz"
      },
      "source": [
        "def defuzzification(item):\n",
        "  return ((item[RECOMMENDED] * 100) + (item[AVERAGE] * 70) + (item[NOT_RECOMMENDED] * 50)) / (item[RECOMMENDED] + item[AVERAGE] + item[NOT_RECOMMENDED])"
      ],
      "execution_count": 56,
      "outputs": []
    },
    {
      "cell_type": "code",
      "metadata": {
        "id": "TDUVcvQG5Tbk",
        "colab": {
          "base_uri": "https://localhost:8080/"
        },
        "outputId": "e4a15926-a136-4e74-aa35-f260124402d8"
      },
      "source": [
        "z = [defuzzification(item) for item in score]\n",
        "\n",
        "data2 = data\n",
        "data2[\"score\"] = z\n",
        "\n",
        "data2 = data2.sort_values(by=[\"score\"], ascending=False)\n",
        "\n",
        "print(data2[0:10])\n",
        "\n",
        "data2 = data2.drop([\"pelayanan\", \"makanan\", \"score\"], axis=1)\n",
        "data2[0:10].to_excel(\"peringkat.xlsx\", index=False, header=False)"
      ],
      "execution_count": 61,
      "outputs": [
        {
          "output_type": "stream",
          "text": [
            "    id  pelayanan  makanan  score\n",
            "69  70         78        8  100.0\n",
            "78  79         87        9  100.0\n",
            "30  31         74        9  100.0\n",
            "53  54         64       10  100.0\n",
            "26  27         59        8  100.0\n",
            "24  25         61       10  100.0\n",
            "23  24        100        9  100.0\n",
            "21  22         79        9  100.0\n",
            "68  69         86       10  100.0\n",
            "15  16         82        6  100.0\n"
          ],
          "name": "stdout"
        }
      ]
    },
    {
      "cell_type": "code",
      "metadata": {
        "id": "gLr8R2axDLu6"
      },
      "source": [
        ""
      ],
      "execution_count": null,
      "outputs": []
    }
  ]
}